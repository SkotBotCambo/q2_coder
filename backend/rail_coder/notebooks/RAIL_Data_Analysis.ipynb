{
 "cells": [
  {
   "cell_type": "code",
   "execution_count": 1,
   "id": "d4d4e54d-f2a1-4f8c-811d-d286f18c2fb1",
   "metadata": {},
   "outputs": [],
   "source": [
    "import os\n",
    "os.environ[\"DJANGO_ALLOW_ASYNC_UNSAFE\"] = \"true\"\n",
    "\n",
    "import pandas as pd\n",
    "\n",
    "from rail_coder.models import Document, DocumentCode\n",
    "documents = Document.objects.all()"
   ]
  },
  {
   "cell_type": "code",
   "execution_count": 2,
   "id": "38ef476e-21e8-4d03-b271-d830c70cfba7",
   "metadata": {},
   "outputs": [],
   "source": [
    "documents = Document.objects.all()"
   ]
  },
  {
   "cell_type": "code",
   "execution_count": 3,
   "id": "281e2d7b-197f-472d-abf3-18326e1f3f0e",
   "metadata": {},
   "outputs": [],
   "source": [
    "d = documents[0]"
   ]
  },
  {
   "cell_type": "code",
   "execution_count": 5,
   "id": "0d45973f-d1ba-4cd6-b839-4457a3a9704e",
   "metadata": {},
   "outputs": [
    {
     "data": {
      "text/plain": [
       "'discrimination, exploitation, legally protected characteristics, legally protected vulnerabilities'"
      ]
     },
     "execution_count": 5,
     "metadata": {},
     "output_type": "execute_result"
    }
   ],
   "source": [
    "d.documentcode_set.latest('date').uses_restricted"
   ]
  },
  {
   "cell_type": "code",
   "execution_count": 18,
   "id": "6016577d-0956-45ad-9583-c505be5d50d8",
   "metadata": {},
   "outputs": [],
   "source": [
    "# for every document get its most recent document code\n",
    "data = []\n",
    "\n",
    "for doc in documents:\n",
    "    d = {\"id\": doc.id,\n",
    "            \"clause\": doc.clause_text,\n",
    "            \"domain\": doc.domain,\n",
    "            \"tags\": doc.tags,\n",
    "            \"source\": doc.source}\n",
    "\n",
    "    # most recent DocumentCode\n",
    "    try:\n",
    "        dcode = doc.documentcode_set.latest('date')\n",
    "    except DocumentCode.DoesNotExist as dne:\n",
    "        print(doc)\n",
    "        raise dne\n",
    "\n",
    "    d['coded_date'] = dcode.date\n",
    "    d['artifacts_restricted'] = [x.strip() for x in dcode.artifacts_restricted.split(\",\")]\n",
    "    d['uses_restricted'] = [x.strip() for x in dcode.uses_restricted.split(\",\")]\n",
    "    d['how_restricted'] = [x.strip() for x in dcode.how_restricted.split(\",\")]\n",
    "    data.append(d)\n",
    "    \n",
    "\n",
    "df = pd.DataFrame(data).set_index(\"id\")"
   ]
  },
  {
   "cell_type": "code",
   "execution_count": 19,
   "id": "68b3b586-b3a7-475c-935e-f2568b500281",
   "metadata": {},
   "outputs": [
    {
     "data": {
      "text/html": [
       "<div>\n",
       "<style scoped>\n",
       "    .dataframe tbody tr th:only-of-type {\n",
       "        vertical-align: middle;\n",
       "    }\n",
       "\n",
       "    .dataframe tbody tr th {\n",
       "        vertical-align: top;\n",
       "    }\n",
       "\n",
       "    .dataframe thead th {\n",
       "        text-align: right;\n",
       "    }\n",
       "</style>\n",
       "<table border=\"1\" class=\"dataframe\">\n",
       "  <thead>\n",
       "    <tr style=\"text-align: right;\">\n",
       "      <th></th>\n",
       "      <th>clause</th>\n",
       "      <th>domain</th>\n",
       "      <th>tags</th>\n",
       "      <th>source</th>\n",
       "      <th>coded_date</th>\n",
       "      <th>artifacts_restricted</th>\n",
       "      <th>uses_restricted</th>\n",
       "      <th>how_restricted</th>\n",
       "    </tr>\n",
       "    <tr>\n",
       "      <th>id</th>\n",
       "      <th></th>\n",
       "      <th></th>\n",
       "      <th></th>\n",
       "      <th></th>\n",
       "      <th></th>\n",
       "      <th></th>\n",
       "      <th></th>\n",
       "      <th></th>\n",
       "    </tr>\n",
       "  </thead>\n",
       "  <tbody>\n",
       "    <tr>\n",
       "      <th>1</th>\n",
       "      <td>Licensed artifact(s) shall not discriminate or...</td>\n",
       "      <td>Discrimination</td>\n",
       "      <td>discrimination, legally protected characterist...</td>\n",
       "      <td>RAIL (IEEE)</td>\n",
       "      <td>2023-10-11 22:14:52.041367+00:00</td>\n",
       "      <td>[licensed artifacts]</td>\n",
       "      <td>[discrimination, exploitation, legally protect...</td>\n",
       "      <td>[prohibition]</td>\n",
       "    </tr>\n",
       "    <tr>\n",
       "      <th>2</th>\n",
       "      <td>Licensed artifact(s) shall not be used for wea...</td>\n",
       "      <td>Military</td>\n",
       "      <td>military, weapons</td>\n",
       "      <td>RAIL (IEEE)</td>\n",
       "      <td>2023-10-11 22:15:14.824527+00:00</td>\n",
       "      <td>[licensed artifacts]</td>\n",
       "      <td>[weaponry, warfare]</td>\n",
       "      <td>[prohibition]</td>\n",
       "    </tr>\n",
       "    <tr>\n",
       "      <th>3</th>\n",
       "      <td>Licensed artifact(s) shall not engage or enabl...</td>\n",
       "      <td>Legal</td>\n",
       "      <td>automated decision-making, legal rights</td>\n",
       "      <td>RAIL (IEEE)</td>\n",
       "      <td>2023-10-11 22:22:30.932441+00:00</td>\n",
       "      <td>[licensed artifacts]</td>\n",
       "      <td>[fully automated decision-making, adverse impa...</td>\n",
       "      <td>[prohibition]</td>\n",
       "    </tr>\n",
       "    <tr>\n",
       "      <th>4</th>\n",
       "      <td>Licensed artifact(s) shall not engage or enabl...</td>\n",
       "      <td>Legal</td>\n",
       "      <td>automated decision-making, legal bindings</td>\n",
       "      <td>RAIL (IEEE)</td>\n",
       "      <td>2023-10-12 20:20:50.817788+00:00</td>\n",
       "      <td>[licensed artifacts]</td>\n",
       "      <td>[automated decision making, enforceable obliga...</td>\n",
       "      <td>[]</td>\n",
       "    </tr>\n",
       "    <tr>\n",
       "      <th>5</th>\n",
       "      <td>Licensed artifact(s) shall not predict a natur...</td>\n",
       "      <td>Discrimination</td>\n",
       "      <td>crime forcasting, prediction</td>\n",
       "      <td>RAIL (IEEE)</td>\n",
       "      <td>2023-10-11 22:25:19.541248+00:00</td>\n",
       "      <td>[licensed artifacts]</td>\n",
       "      <td>[crime prediction]</td>\n",
       "      <td>[prohibition]</td>\n",
       "    </tr>\n",
       "  </tbody>\n",
       "</table>\n",
       "</div>"
      ],
      "text/plain": [
       "                                               clause          domain  \\\n",
       "id                                                                      \n",
       "1   Licensed artifact(s) shall not discriminate or...  Discrimination   \n",
       "2   Licensed artifact(s) shall not be used for wea...        Military   \n",
       "3   Licensed artifact(s) shall not engage or enabl...           Legal   \n",
       "4   Licensed artifact(s) shall not engage or enabl...           Legal   \n",
       "5   Licensed artifact(s) shall not predict a natur...  Discrimination   \n",
       "\n",
       "                                                 tags       source  \\\n",
       "id                                                                   \n",
       "1   discrimination, legally protected characterist...  RAIL (IEEE)   \n",
       "2                                   military, weapons  RAIL (IEEE)   \n",
       "3             automated decision-making, legal rights  RAIL (IEEE)   \n",
       "4           automated decision-making, legal bindings  RAIL (IEEE)   \n",
       "5                        crime forcasting, prediction  RAIL (IEEE)   \n",
       "\n",
       "                         coded_date  artifacts_restricted  \\\n",
       "id                                                          \n",
       "1  2023-10-11 22:14:52.041367+00:00  [licensed artifacts]   \n",
       "2  2023-10-11 22:15:14.824527+00:00  [licensed artifacts]   \n",
       "3  2023-10-11 22:22:30.932441+00:00  [licensed artifacts]   \n",
       "4  2023-10-12 20:20:50.817788+00:00  [licensed artifacts]   \n",
       "5  2023-10-11 22:25:19.541248+00:00  [licensed artifacts]   \n",
       "\n",
       "                                      uses_restricted how_restricted  \n",
       "id                                                                    \n",
       "1   [discrimination, exploitation, legally protect...  [prohibition]  \n",
       "2                                 [weaponry, warfare]  [prohibition]  \n",
       "3   [fully automated decision-making, adverse impa...  [prohibition]  \n",
       "4   [automated decision making, enforceable obliga...             []  \n",
       "5                                  [crime prediction]  [prohibition]  "
      ]
     },
     "execution_count": 19,
     "metadata": {},
     "output_type": "execute_result"
    }
   ],
   "source": [
    "df.head()"
   ]
  },
  {
   "cell_type": "markdown",
   "id": "78522d5d-0484-4d38-8a10-713c6d93aff2",
   "metadata": {},
   "source": [
    "# Use Restriction Tags"
   ]
  },
  {
   "cell_type": "code",
   "execution_count": 20,
   "id": "27824207-cc0c-40fb-b59d-49244b7f1331",
   "metadata": {},
   "outputs": [
    {
     "data": {
      "text/plain": [
       "uses_restricted\n",
       "misinformation                                   9\n",
       "violation of the law                             8\n",
       "disinformation                                   8\n",
       "behavioral manipulation                          7\n",
       "violation of law                                 7\n",
       "                                                ..\n",
       "International Traffic Arms Regulations (ITAR)    1\n",
       "purpose of harming others                        1\n",
       "publicly accessible space                        1\n",
       "user identification                              1\n",
       "disclosure of known dangers of AI system         1\n",
       "Name: count, Length: 119, dtype: int64"
      ]
     },
     "execution_count": 20,
     "metadata": {},
     "output_type": "execute_result"
    }
   ],
   "source": [
    "df.explode('uses_restricted').uses_restricted.value_counts()"
   ]
  },
  {
   "cell_type": "markdown",
   "id": "21f10277-61f9-41f6-b8a7-1beafb4d59cd",
   "metadata": {},
   "source": [
    "# Vulnerabilities"
   ]
  },
  {
   "cell_type": "code",
   "execution_count": 24,
   "id": "d6fb9931-7b0e-40fc-8fb9-a459ab4ae13d",
   "metadata": {},
   "outputs": [
    {
     "name": "stdout",
     "output_type": "stream",
     "text": [
      "RAIL (IEEE)\n",
      "\tLicensed artifact(s) shall not discriminate or exploit individuals or groups based on legally protected characteristics and/or vulnerabilities; and neither be deployed or used for those purposes.\n",
      "\n",
      "\n",
      "RAIL (IEEE)\n",
      "\tLicensed artifact(s) shall not utilize personal information to infer additional personal information about a natural person, including but not limited to legally protected characteristics, vulnerabilities or categories; unless informed consent from the data subject to collect said inferred personal information for a stated purpose and defined duration is received.\n",
      "\n",
      "\n",
      "AI Pubs\n",
      "\tYou agree not to use the <licensed artifact(s)> or its Derivatives to exploit any of the vulnerabilities of a specific group of persons based on their age, social, physical or mental characteristics, in order to materially distort the behavior of a person belonging to that group in a manner that causes or is likely to cause that person or another person Harm.\n",
      "\n",
      "\n",
      "Big Code\n",
      "\tYou agree not to Use the Model or Modifications of the Model to intentionally exploit any of the vulnerabilities of a specific group of persons based on their age, social, physical or mental characteristics, in order to materially distort the behavior of a person pertaining to that group in a manner that causes or is likely to cause that person or another person physical or psychological harm;\n",
      "\n",
      "\n",
      "Big Science\n",
      "\tYou agree not to Use the Model or Modifications of the Model to exploit any of the vulnerabilities of a specific group of persons based on their age, social, physical or mental characteristics, in order to materially distort the behavior of a person pertaining to that group in a manner that causes or is likely to cause that person or another person physical or psychological harm.\n",
      "\n",
      "\n",
      "Stable Diffusion\n",
      "\tYou agree not to use the Model or Derivatives of the Model to exploit any of the vulnerabilities of a specific group of persons based on their age, social, physical or mental characteristics, in order to materially distort the behavior of a person pertaining to that group in a manner that causes or is likely to cause that person or another person physical or psychological harm;\n",
      "\n",
      "\n"
     ]
    }
   ],
   "source": [
    "for ind, row in df[df['clause'].str.contains(\"vulnerab\")].iterrows():\n",
    "    print(row['source'])\n",
    "    print(\"\\t\"+row['clause'])\n",
    "    print(\"\\n\")"
   ]
  },
  {
   "cell_type": "code",
   "execution_count": null,
   "id": "47c81b0b-9da6-4e2f-b5fe-ee8e12c11745",
   "metadata": {},
   "outputs": [],
   "source": []
  }
 ],
 "metadata": {
  "kernelspec": {
   "display_name": "Django Shell-Plus",
   "language": "python",
   "name": "django_extensions"
  },
  "language_info": {
   "codemirror_mode": {
    "name": "ipython",
    "version": 3
   },
   "file_extension": ".py",
   "mimetype": "text/x-python",
   "name": "python",
   "nbconvert_exporter": "python",
   "pygments_lexer": "ipython3",
   "version": "3.11.5"
  }
 },
 "nbformat": 4,
 "nbformat_minor": 5
}
