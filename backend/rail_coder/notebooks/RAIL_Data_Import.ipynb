{
 "cells": [
  {
   "cell_type": "markdown",
   "id": "32c0b587-2db1-4212-b146-dbb4c026e781",
   "metadata": {},
   "source": [
    "# RAIL Data Import\n",
    "* Data is imported from [this spreadsheet ](https://docs.google.com/spreadsheets/d/1DZaBq6DCUc5_OIGtm9d3O3fief_ICILiWxbokctK2r4/edit?usp=sharing)"
   ]
  },
  {
   "cell_type": "markdown",
   "id": "8fb6fe87-b7f1-4c59-9c27-51a020fbd932",
   "metadata": {},
   "source": [
    "# Load Data"
   ]
  },
  {
   "cell_type": "code",
   "execution_count": 1,
   "id": "a14243b5-6ab7-4934-b457-05762e706880",
   "metadata": {},
   "outputs": [],
   "source": [
    "import os\n",
    "os.environ[\"DJANGO_ALLOW_ASYNC_UNSAFE\"] = \"true\""
   ]
  },
  {
   "cell_type": "code",
   "execution_count": 2,
   "id": "ae9a8c32-8933-45e6-95ff-cd46b0e84b28",
   "metadata": {},
   "outputs": [],
   "source": [
    "import pandas as pd"
   ]
  },
  {
   "cell_type": "code",
   "execution_count": 3,
   "id": "fa77c58c-f2e4-42e9-86f3-a93a5ae31f9e",
   "metadata": {},
   "outputs": [
    {
     "data": {
      "text/html": [
       "<div>\n",
       "<style scoped>\n",
       "    .dataframe tbody tr th:only-of-type {\n",
       "        vertical-align: middle;\n",
       "    }\n",
       "\n",
       "    .dataframe tbody tr th {\n",
       "        vertical-align: top;\n",
       "    }\n",
       "\n",
       "    .dataframe thead th {\n",
       "        text-align: right;\n",
       "    }\n",
       "</style>\n",
       "<table border=\"1\" class=\"dataframe\">\n",
       "  <thead>\n",
       "    <tr style=\"text-align: right;\">\n",
       "      <th></th>\n",
       "      <th>Domain</th>\n",
       "      <th>Restriction</th>\n",
       "      <th>Tags</th>\n",
       "      <th>Source</th>\n",
       "      <th>Notes</th>\n",
       "      <th>Unnamed: 5</th>\n",
       "      <th>Unnamed: 6</th>\n",
       "      <th>(cont'd)</th>\n",
       "    </tr>\n",
       "  </thead>\n",
       "  <tbody>\n",
       "    <tr>\n",
       "      <th>0</th>\n",
       "      <td>Discrimination</td>\n",
       "      <td>Licensed artifact(s) shall not discriminate or...</td>\n",
       "      <td>discrimination, legally protected characterist...</td>\n",
       "      <td>RAIL (IEEE)</td>\n",
       "      <td>locked</td>\n",
       "      <td>NaN</td>\n",
       "      <td>NaN</td>\n",
       "      <td>NaN</td>\n",
       "    </tr>\n",
       "    <tr>\n",
       "      <th>1</th>\n",
       "      <td>Military</td>\n",
       "      <td>Licensed artifact(s) shall not be used for wea...</td>\n",
       "      <td>military, weapons</td>\n",
       "      <td>RAIL (IEEE)</td>\n",
       "      <td>locked</td>\n",
       "      <td>NaN</td>\n",
       "      <td>NaN</td>\n",
       "      <td>NaN</td>\n",
       "    </tr>\n",
       "    <tr>\n",
       "      <th>2</th>\n",
       "      <td>Legal</td>\n",
       "      <td>Licensed artifact(s) shall not engage or enabl...</td>\n",
       "      <td>automated decision-making, legal rights</td>\n",
       "      <td>RAIL (IEEE)</td>\n",
       "      <td>locked</td>\n",
       "      <td>NaN</td>\n",
       "      <td>NaN</td>\n",
       "      <td>NaN</td>\n",
       "    </tr>\n",
       "    <tr>\n",
       "      <th>3</th>\n",
       "      <td>Legal</td>\n",
       "      <td>Licensed artifact(s) shall not engage or enabl...</td>\n",
       "      <td>automated decision-making, legal bindings</td>\n",
       "      <td>RAIL (IEEE)</td>\n",
       "      <td>locked</td>\n",
       "      <td>NaN</td>\n",
       "      <td>NaN</td>\n",
       "      <td>NaN</td>\n",
       "    </tr>\n",
       "    <tr>\n",
       "      <th>4</th>\n",
       "      <td>Discrimination</td>\n",
       "      <td>Licensed artifact(s) shall not predict a natur...</td>\n",
       "      <td>crime forcasting, prediction</td>\n",
       "      <td>RAIL (IEEE)</td>\n",
       "      <td>locked</td>\n",
       "      <td>NaN</td>\n",
       "      <td>NaN</td>\n",
       "      <td>NaN</td>\n",
       "    </tr>\n",
       "  </tbody>\n",
       "</table>\n",
       "</div>"
      ],
      "text/plain": [
       "           Domain                                        Restriction  \\\n",
       "0  Discrimination  Licensed artifact(s) shall not discriminate or...   \n",
       "1        Military  Licensed artifact(s) shall not be used for wea...   \n",
       "2           Legal  Licensed artifact(s) shall not engage or enabl...   \n",
       "3           Legal  Licensed artifact(s) shall not engage or enabl...   \n",
       "4  Discrimination  Licensed artifact(s) shall not predict a natur...   \n",
       "\n",
       "                                                Tags       Source   Notes  \\\n",
       "0  discrimination, legally protected characterist...  RAIL (IEEE)  locked   \n",
       "1                                  military, weapons  RAIL (IEEE)  locked   \n",
       "2            automated decision-making, legal rights  RAIL (IEEE)  locked   \n",
       "3          automated decision-making, legal bindings  RAIL (IEEE)  locked   \n",
       "4                       crime forcasting, prediction  RAIL (IEEE)  locked   \n",
       "\n",
       "   Unnamed: 5  Unnamed: 6 (cont'd)  \n",
       "0         NaN         NaN      NaN  \n",
       "1         NaN         NaN      NaN  \n",
       "2         NaN         NaN      NaN  \n",
       "3         NaN         NaN      NaN  \n",
       "4         NaN         NaN      NaN  "
      ]
     },
     "execution_count": 3,
     "metadata": {},
     "output_type": "execute_result"
    }
   ],
   "source": [
    "df = pd.read_csv(\"Restriction Masterlist RAIL Generator - Masterlist.tsv\", delimiter=\"\\t\")\n",
    "df.head()"
   ]
  },
  {
   "cell_type": "markdown",
   "id": "355fe3ac-057a-4d3f-be25-a66abfa64be5",
   "metadata": {},
   "source": [
    "# Django Import\n",
    "* [Working from this example](https://medium.com/ayuth/how-to-use-django-in-jupyter-notebook-561ea2401852)"
   ]
  },
  {
   "cell_type": "code",
   "execution_count": 4,
   "id": "7974b9ba-8bdf-41a8-b615-ccf99f5dc0cd",
   "metadata": {},
   "outputs": [],
   "source": [
    "from rail_coder.models import Document, DocumentCode"
   ]
  },
  {
   "cell_type": "code",
   "execution_count": 5,
   "id": "e5276185-92dd-43d7-9210-710cded61b33",
   "metadata": {},
   "outputs": [],
   "source": [
    "from django.utils import timezone"
   ]
  },
  {
   "cell_type": "code",
   "execution_count": 6,
   "id": "da70957d-48e4-4e11-9c7c-603b6ce4de37",
   "metadata": {},
   "outputs": [],
   "source": [
    "for ind, row in df.iterrows():\n",
    "    d = Document(domain=row['Domain'],\n",
    "                 clause_text= row['Restriction'],\n",
    "                 pub_date= timezone.now(),\n",
    "                 tags= row['Tags'],\n",
    "                 source= row['Source'])\n",
    "    d.save()"
   ]
  },
  {
   "cell_type": "code",
   "execution_count": 6,
   "id": "dbad3a10-6b7c-42d3-80ff-1f382e4d1d35",
   "metadata": {},
   "outputs": [
    {
     "data": {
      "text/plain": [
       "<QuerySet [<Document: RAIL (IEEE): Licensed artifact(s)>, <Document: RAIL (IEEE): Licensed artifact(s)>, <Document: RAIL (IEEE): Licensed artifact(s)>, <Document: RAIL (IEEE): Licensed artifact(s)>, <Document: RAIL (IEEE): Licensed artifact(s)>, <Document: RAIL (IEEE): Licensed artifact(s)>, <Document: RAIL (IEEE): Licensed artifact(s)>, <Document: RAIL (IEEE): Licensed artifact(s)>, <Document: RAIL (IEEE): Licensed artifact(s)>, <Document: RAIL (IEEE): Licensed artifact(s)>, <Document: Stable Diffusion: You agree not to use>, <Document: Llama2: Engage in, promote, >, <Document: Llama2: Engage in, promote, >, <Document: Llama2: Engage in, promote, >, <Document: Llama2: Engage in, promote, >, <Document: Big Code: You agree not to Use>, <Document: Big Science: You agree not to Use>, <Document: AI Pubs: You agree not to use>, <Document: LLama2: Violate the law or o>, <Document: LLama2: Violate the law or o>, '...(remaining elements truncated)...']>"
      ]
     },
     "execution_count": 6,
     "metadata": {},
     "output_type": "execute_result"
    }
   ],
   "source": [
    "Document.objects.all()"
   ]
  },
  {
   "cell_type": "code",
   "execution_count": null,
   "id": "fc7d629d-9922-41cd-91a1-42c840fa4b05",
   "metadata": {},
   "outputs": [],
   "source": []
  }
 ],
 "metadata": {
  "kernelspec": {
   "display_name": "Django Shell-Plus",
   "language": "python",
   "name": "django_extensions"
  },
  "language_info": {
   "codemirror_mode": {
    "name": "ipython",
    "version": 3
   },
   "file_extension": ".py",
   "mimetype": "text/x-python",
   "name": "python",
   "nbconvert_exporter": "python",
   "pygments_lexer": "ipython3",
   "version": "3.11.5"
  }
 },
 "nbformat": 4,
 "nbformat_minor": 5
}
